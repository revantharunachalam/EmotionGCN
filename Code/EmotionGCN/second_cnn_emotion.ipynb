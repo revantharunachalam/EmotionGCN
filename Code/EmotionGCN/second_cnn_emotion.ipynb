{
 "cells": [
  {
   "cell_type": "code",
   "execution_count": 60,
   "metadata": {},
   "outputs": [],
   "source": [
    "import warnings\n",
    "warnings.filterwarnings('ignore')\n",
    "import numpy as np                     \n",
    "import matplotlib.pyplot as plt\n",
    "import os"
   ]
  },
  {
   "cell_type": "code",
   "execution_count": 61,
   "metadata": {},
   "outputs": [],
   "source": [
    "import cv2 as cv\n",
    "import random\n",
    "import torchvision\n",
    "import glob"
   ]
  },
  {
   "cell_type": "code",
   "execution_count": 62,
   "metadata": {},
   "outputs": [],
   "source": [
    "import time \n",
    "import pickle\n",
    "import pandas as pd\n",
    "from pathlib import Path\n",
    "from PIL import Image\n",
    "import h5py\n",
    "from pathlib import Path\n",
    "import json\n",
    "from os import listdir\n",
    "import itertools"
   ]
  },
  {
   "cell_type": "code",
   "execution_count": 63,
   "metadata": {},
   "outputs": [],
   "source": [
    "from sklearn.model_selection import train_test_split\n",
    "from sklearn.linear_model import LinearRegression\n",
    "from sklearn.preprocessing import LabelEncoder\n",
    "from sklearn.preprocessing import MinMaxScaler\n"
   ]
  },
  {
   "cell_type": "code",
   "execution_count": 64,
   "metadata": {},
   "outputs": [
    {
     "name": "stdout",
     "output_type": "stream",
     "text": [
      "done loading\n"
     ]
    }
   ],
   "source": [
    "\n",
    "from sklearn import metrics\n",
    "from sklearn.metrics import confusion_matrix\n",
    "\n",
    "from sklearn.preprocessing import LabelBinarizer\n",
    "from sklearn.preprocessing import MultiLabelBinarizer\n",
    "from sklearn.model_selection import train_test_split\n",
    "\n",
    "print('done loading')"
   ]
  },
  {
   "cell_type": "code",
   "execution_count": 65,
   "metadata": {},
   "outputs": [
    {
     "name": "stdout",
     "output_type": "stream",
     "text": [
      "done loading\n"
     ]
    }
   ],
   "source": [
    "from tensorflow.keras.datasets import cifar10\n",
    "from tensorflow.keras.models import Sequential\n",
    "from tensorflow.keras.layers import Dense, Flatten, Conv2D,MaxPool2D,Dropout,Activation,LeakyReLU\n",
    "from tensorflow.keras.losses import sparse_categorical_crossentropy\n",
    "from tensorflow.keras.optimizers import Adam\n",
    "from tensorflow.keras.preprocessing.image import img_to_array,ImageDataGenerator \n",
    "from tensorflow.keras.preprocessing import image  \n",
    "from tensorflow.keras.layers import BatchNormalization\n",
    "from tensorflow.keras.optimizers import Adam\n",
    "from tensorflow.keras import backend as K\n",
    "print('done loading')"
   ]
  },
  {
   "cell_type": "code",
   "execution_count": 66,
   "metadata": {},
   "outputs": [],
   "source": [
    "def folders_in_path(path): #takes path as input\n",
    "    if not Path.is_dir(path): #checks if path exsist\n",
    "        raise ValueError(\"argument is not directory\") #produses error\n",
    "        #if not in directory\n",
    "    yield from filter(Path.is_dir,path.iterdir())\n",
    "def folders_in_depth(path,depth):\n",
    "    if 0>depth:\n",
    "        raise ValueError(\"depth smaller 0\")\n",
    "    if 0==depth:\n",
    "        yield from folders_in_path(path)\n",
    "    else:\n",
    "        for folder in folders_in_path(path):\n",
    "            yield from folders_in_depth(folder,depth-1)\n",
    "def files_in_path(path):\n",
    "    if not Path.is_dir(path):\n",
    "        raise ValueError(\"argument is not a directory\")\n",
    "    yield from filter(Path.is_file,path.iterdir())\n",
    "def sum_file_size(filepaths):\n",
    "    return sum([filep.stat().st_size for filep in filepaths])\n",
    "def convert_image_to_array(image_dir):\n",
    "    try:\n",
    "        image = cv.imread(image_dir)\n",
    "        if image is not None :\n",
    "            image = cv.resize(image, default_image_size)   \n",
    "            return img_to_array(image)\n",
    "        else :\n",
    "            return np.array([])\n",
    "    except Exception as e:\n",
    "        print(f\"Error : {e}\")\n",
    "        return None \n",
    "  "
   ]
  },
  {
   "cell_type": "code",
   "execution_count": 67,
   "metadata": {},
   "outputs": [],
   "source": [
    "def load_train(path):\n",
    "    images = []\n",
    "    for label in labels:\n",
    "        direc = os.path.join(path, label)\n",
    "        class_num = labels.index(label)\n",
    "        for image in os.listdir(direc):\n",
    "            image_read = cv.imread(os.path.join(direc,image),cv.IMREAD_GRAYSCALE)\n",
    "            image_resized = cv.resize(image_read,(image_size,image_size))\n",
    "            images.append([image_resized,class_num])\n",
    "            \n",
    "    return np.array(images)\n",
    " "
   ]
  },
  {
   "cell_type": "code",
   "execution_count": 68,
   "metadata": {
    "scrolled": false
   },
   "outputs": [
    {
     "name": "stdout",
     "output_type": "stream",
     "text": [
      "['angry', 'happy', 'sad', 'surprise']\n",
      "The labels are ['angry', 'happy', 'sad', 'surprise']\n",
      "Done loading all images\n",
      "Length of X = 19300\n",
      "Length of y = 19300\n",
      "Number of class 1 images = 3993\n",
      "Number of class 2 images = 7164\n",
      "Number of class 3 images = 4938\n"
     ]
    }
   ],
   "source": [
    "# looking into complete folder to understand number of images \n",
    "path = 'C:\\\\Users\\\\ACER\\\\Desktop\\\\Emotion_detection\\\\train_trim\\\\'\n",
    "train = os.listdir(path)\n",
    "folders=[]\n",
    "folders = [f for f in sorted(os.listdir(path))]\n",
    "print(folders)\n",
    "labels = folders\n",
    "print (f'The labels are {labels}')\n",
    "image_size = 56\n",
    "train_images = load_train(path)\n",
    "X = []\n",
    "y = []\n",
    "for feature, label in train_images:\n",
    "    X.append(feature)\n",
    "    y.append(label)\n",
    "print('Done loading all images')    \n",
    "print (f'Length of X = {len(X)}')\n",
    "print (f'Length of y = {len(y)}')\n",
    "## checking the number of images of each class\n",
    "a = 0\n",
    "b = 0\n",
    "c = 0\n",
    "d = 0\n",
    "e = 0\n",
    "for label in y:\n",
    "   if label == 0:\n",
    "        a += 1\n",
    "   if label == 1:\n",
    "       b += 1\n",
    "   if label == 2:\n",
    "       c += 1\n",
    "   if label == 3:\n",
    "       d += 1\n",
    "   if label == 4:\n",
    "       e += 1\n",
    "#        \n",
    "print (f'Number of class 1 images = {a}')\n",
    "print (f'Number of class 2 images = {b}')\n",
    "print (f'Number of class 3 images = {c}')\n",
    " \n"
   ]
  },
  {
   "cell_type": "code",
   "execution_count": 69,
   "metadata": {},
   "outputs": [],
   "source": [
    "train_path=path\n",
    "EPOCHS = 10 #50\n",
    "INIT_LR = 1e-3\n",
    "BS = 32\n",
    "default_image_size = tuple((156, 156))\n",
    "image_size = 0\n",
    "width=156\n",
    "height=156\n",
    "depth=1"
   ]
  },
  {
   "cell_type": "code",
   "execution_count": 70,
   "metadata": {},
   "outputs": [
    {
     "name": "stdout",
     "output_type": "stream",
     "text": [
      "['angry', 'happy', 'sad', 'surprise']\n",
      "C:\\Users\\ACER\\Desktop\\Emotion_detection\n"
     ]
    }
   ],
   "source": [
    "image_list, label_list = [], []\n",
    "train_labels=os.listdir(train_path) #take training path labels\n",
    "train_labels.sort() #sort the labels\n",
    "print(train_labels) #primt the lables\n",
    "global_features=[] #initialize variable to combine all features\n",
    "labels=[] #create label variables so as to decode text to number\n",
    "total=0 #initialize\n",
    "tot_file=[] #initialize\n",
    "count=1 #start count to check number of images\n",
    "i=0\n",
    "j=0\n",
    "k=0\n",
    "print(Path.cwd()) #gives the current path"
   ]
  },
  {
   "cell_type": "code",
   "execution_count": 71,
   "metadata": {},
   "outputs": [
    {
     "name": "stdout",
     "output_type": "stream",
     "text": [
      "C:\\Users\\ACER\\Desktop\\Emotion_detection\\.idea\\inspectionProfiles:filecount:1,total size:174\n",
      "C:\\Users\\ACER\\Desktop\\Emotion_detection\\gcn1\\conda-meta:filecount:61,total size:11459445\n",
      "C:\\Users\\ACER\\Desktop\\Emotion_detection\\gcn1\\DLLs:filecount:34,total size:10595549\n",
      "C:\\Users\\ACER\\Desktop\\Emotion_detection\\gcn1\\include:filecount:102,total size:656144\n",
      "C:\\Users\\ACER\\Desktop\\Emotion_detection\\gcn1\\Lib:filecount:172,total size:4325196\n",
      "C:\\Users\\ACER\\Desktop\\Emotion_detection\\gcn1\\Library:filecount:0,total size:0\n",
      "C:\\Users\\ACER\\Desktop\\Emotion_detection\\gcn1\\libs:filecount:3,total size:512288\n",
      "C:\\Users\\ACER\\Desktop\\Emotion_detection\\gcn1\\Scripts:filecount:83,total size:13221247\n",
      "C:\\Users\\ACER\\Desktop\\Emotion_detection\\gcn1\\share:filecount:0,total size:0\n",
      "C:\\Users\\ACER\\Desktop\\Emotion_detection\\gcn1\\sip:filecount:0,total size:0\n",
      "C:\\Users\\ACER\\Desktop\\Emotion_detection\\gcn1\\tcl:filecount:6,total size:1600642\n",
      "C:\\Users\\ACER\\Desktop\\Emotion_detection\\gcn1\\Tools:filecount:0,total size:0\n",
      "C:\\Users\\ACER\\Desktop\\Emotion_detection\\train\\angry:filecount:3993,total size:6332643\n",
      "C:\\Users\\ACER\\Desktop\\Emotion_detection\\train\\happy:filecount:7164,total size:11296707\n",
      "C:\\Users\\ACER\\Desktop\\Emotion_detection\\train\\neutral:filecount:4982,total size:7740763\n",
      "C:\\Users\\ACER\\Desktop\\Emotion_detection\\train\\sad:filecount:4938,total size:7640144\n",
      "C:\\Users\\ACER\\Desktop\\Emotion_detection\\train\\surprise:filecount:3205,total size:5182401\n",
      "C:\\Users\\ACER\\Desktop\\Emotion_detection\\train_trim\\angry:filecount:3993,total size:6332643\n",
      "C:\\Users\\ACER\\Desktop\\Emotion_detection\\train_trim\\happy:filecount:7164,total size:11296707\n",
      "C:\\Users\\ACER\\Desktop\\Emotion_detection\\train_trim\\sad:filecount:4938,total size:7640144\n",
      "C:\\Users\\ACER\\Desktop\\Emotion_detection\\train_trim\\surprise:filecount:3205,total size:5182401\n"
     ]
    }
   ],
   "source": [
    "for folder in folders_in_depth(Path.cwd(),1):\n",
    "        #first loop will pick the first foldend then next folder\n",
    "        files=list(files_in_path(folder)) #list all files in folder\n",
    "        file=len(files) #length of files\n",
    "        tot_file.append(file) #because we are running for all folder\n",
    "        # we are appending all files in tot_file at the end we\n",
    "        #shall get the list of number of files in the folder\n",
    "        #we are doing this because every folder has different number of files\n",
    "        #at the end when we are trainig all class of disease have to be\n",
    "        #trained equally, hence find the least number of images in the folder\n",
    "        #and then train accordingly\n",
    "        total_size=sum_file_size(files)\n",
    "        #total size of files\n",
    "        count=count+1 #check total number of files executed\n",
    "        print(f'{folder}:filecount:{len(files)},total size:{total_size}')"
   ]
  },
  {
   "cell_type": "code",
   "execution_count": 72,
   "metadata": {},
   "outputs": [
    {
     "name": "stdout",
     "output_type": "stream",
     "text": [
      "tOTAL FILE: [0, 0, 0, 0, 1, 3, 6, 34, 61, 83, 102, 172, 3205, 3205, 3993, 3993, 4938, 4938, 4982, 7164, 7164]\n",
      "0\n"
     ]
    }
   ],
   "source": [
    "tot_file.sort() #sort files based on ascending order\n",
    "num = tot_file[1]#tot_file[2] #Index 0 is junkhence extract index 1\n",
    "print('tOTAL FILE:',tot_file)\n",
    "print(num) "
   ]
  },
  {
   "cell_type": "code",
   "execution_count": 73,
   "metadata": {},
   "outputs": [],
   "source": [
    "images_per_class=3200 #consider number of images per class\n",
    "#%%START WITH TRAINING\n",
    "#for tr_name in range(0,2):\n",
    "count=0   "
   ]
  },
  {
   "cell_type": "code",
   "execution_count": 74,
   "metadata": {},
   "outputs": [
    {
     "name": "stdout",
     "output_type": "stream",
     "text": [
      "3200\n"
     ]
    }
   ],
   "source": [
    "path1=path \n",
    "print(images_per_class)"
   ]
  },
  {
   "cell_type": "code",
   "execution_count": 75,
   "metadata": {},
   "outputs": [
    {
     "name": "stdout",
     "output_type": "stream",
     "text": [
      "C:\\Users\\ACER\\Desktop\\Emotion_detection\\train_trim\\angry\n",
      "[STATUS] processed folder: angry\n",
      "C:\\Users\\ACER\\Desktop\\Emotion_detection\\train_trim\\happy\n",
      "[STATUS] processed folder: happy\n",
      "C:\\Users\\ACER\\Desktop\\Emotion_detection\\train_trim\\sad\n",
      "[STATUS] processed folder: sad\n",
      "C:\\Users\\ACER\\Desktop\\Emotion_detection\\train_trim\\surprise\n",
      "[STATUS] processed folder: surprise\n",
      "[STATUS] training labels(12800,)\n"
     ]
    }
   ],
   "source": [
    "for count in range(0,len(train_labels)):\n",
    "   \n",
    "    tr_name=count\n",
    "    \n",
    "    dir=train_path+train_labels[tr_name]\n",
    "    print(dir)\n",
    "    current_label=train_labels[tr_name]\n",
    "    print(\"[STATUS] processed folder: {}\".format(current_label))\n",
    "    k=1\n",
    "    file_sub_folder=os.listdir(dir) \n",
    "    for x in range(0,images_per_class):\n",
    "        file=dir +'/'+ file_sub_folder[x]\n",
    "#         print(file)    \n",
    "        image_list.append(convert_image_to_array(file ))\n",
    "        label_list.append(current_label) \n",
    "        i+=1\n",
    "        k+=1    \n",
    "        count=count+1\n",
    "print(\"[STATUS] training labels{}\".format(np.array(label_list).shape))"
   ]
  },
  {
   "cell_type": "code",
   "execution_count": 76,
   "metadata": {},
   "outputs": [
    {
     "name": "stdout",
     "output_type": "stream",
     "text": [
      "12800\n",
      "['angry' 'happy' 'sad' 'surprise']\n",
      "4\n"
     ]
    }
   ],
   "source": [
    "image_size = len(image_list)\n",
    "print(image_size)\n",
    "label_binarizer = LabelBinarizer()\n",
    "image_labels = label_binarizer.fit_transform(label_list)\n",
    "pickle.dump(label_binarizer,open('label_transform.pkl', 'wb'))\n",
    "n_classes = len(label_binarizer.classes_)\n",
    "print(label_binarizer.classes_)\n",
    "print(n_classes)"
   ]
  },
  {
   "cell_type": "code",
   "execution_count": 77,
   "metadata": {},
   "outputs": [
    {
     "name": "stdout",
     "output_type": "stream",
     "text": [
      "12800\n"
     ]
    }
   ],
   "source": [
    "print(len(image_list))\n",
    "\n"
   ]
  },
  {
   "cell_type": "code",
   "execution_count": 78,
   "metadata": {},
   "outputs": [
    {
     "name": "stdout",
     "output_type": "stream",
     "text": [
      "[INFO] Spliting data to train, test\n"
     ]
    }
   ],
   "source": [
    "np_image_list = np.array(image_list, dtype=np.float16) / 225.0\n",
    "print(\"[INFO] Spliting data to train, test\")\n",
    "x_train, x_test, y_train, y_test = train_test_split(np_image_list, image_labels, test_size=0.2, random_state = 42) \n"
   ]
  },
  {
   "cell_type": "code",
   "execution_count": 79,
   "metadata": {},
   "outputs": [],
   "source": [
    "def plot_confusion_matrix(cm, classes,normalize=False,title='Confusion matrix',cmap=plt.cm.Blues):\n",
    "    plt.imshow(cm, interpolation='nearest', cmap=cmap)\n",
    "    plt.title(title)\n",
    "    plt.colorbar()\n",
    "    tick_marks = np.arange(len(classes))\n",
    "    plt.xticks(tick_marks, classes, rotation=45)\n",
    "    plt.yticks(tick_marks, classes)\n",
    "    fmt ='.2f' if normalize else 'd'\n",
    "    thresh = cm.max() / 2.\n",
    "    for i, j in itertools.product(range(cm.shape[0]), range(cm.shape[1])):\n",
    "        plt.text(j, i, format(cm[i, j], fmt), horizontalalignment=\"center\", color=\"white\" if cm[i, j] > thresh else \"black\")\n",
    "    plt.tight_layout()\n",
    "    plt.ylabel('True label')\n",
    "    plt.xlabel('Predicted label') "
   ]
  },
  {
   "cell_type": "code",
   "execution_count": 80,
   "metadata": {
    "scrolled": true
   },
   "outputs": [
    {
     "name": "stdout",
     "output_type": "stream",
     "text": [
      "Model: \"sequential_2\"\n",
      "_________________________________________________________________\n",
      "Layer (type)                 Output Shape              Param #   \n",
      "=================================================================\n",
      "conv2d_4 (Conv2D)            (None, 155, 155, 2)       26        \n",
      "_________________________________________________________________\n",
      "batch_normalization_4 (Batch (None, 155, 155, 2)       8         \n",
      "_________________________________________________________________\n",
      "leaky_re_lu_4 (LeakyReLU)    (None, 155, 155, 2)       0         \n",
      "_________________________________________________________________\n",
      "max_pooling2d_4 (MaxPooling2 (None, 38, 38, 2)         0         \n",
      "_________________________________________________________________\n",
      "conv2d_5 (Conv2D)            (None, 35, 35, 4)         132       \n",
      "_________________________________________________________________\n",
      "batch_normalization_5 (Batch (None, 35, 35, 4)         16        \n",
      "_________________________________________________________________\n",
      "leaky_re_lu_5 (LeakyReLU)    (None, 35, 35, 4)         0         \n",
      "_________________________________________________________________\n",
      "max_pooling2d_5 (MaxPooling2 (None, 17, 17, 4)         0         \n",
      "_________________________________________________________________\n",
      "flatten_2 (Flatten)          (None, 1156)              0         \n",
      "_________________________________________________________________\n",
      "dense_2 (Dense)              (None, 4)                 4628      \n",
      "_________________________________________________________________\n",
      "activation_2 (Activation)    (None, 4)                 0         \n",
      "=================================================================\n",
      "Total params: 4,810\n",
      "Trainable params: 4,798\n",
      "Non-trainable params: 12\n",
      "_________________________________________________________________\n"
     ]
    }
   ],
   "source": [
    "# Create the model\n",
    "input_shape=x_test[0].shape\n",
    "model = Sequential()\n",
    "model.add(Conv2D(2, kernel_size=(2, 2), activation='relu', input_shape=input_shape))\n",
    "model.add(BatchNormalization())\n",
    "model.add(LeakyReLU(alpha=0.1))\n",
    "model.add(MaxPool2D(pool_size=(4,4)))\n",
    "model.add(Conv2D(4, kernel_size=(4, 4), activation='relu', input_shape=input_shape))\n",
    "model.add(BatchNormalization())\n",
    "model.add(LeakyReLU(alpha=0.2))\n",
    "model.add(MaxPool2D(pool_size=(2,2)))\n",
    "model.add(Flatten())\n",
    "model.add(Dense(n_classes))\n",
    "model.add(Activation(\"softmax\"))\n",
    "# Compile the model\n",
    "opt = Adam(lr=INIT_LR, decay=INIT_LR / EPOCHS)\n",
    "model.compile(loss=\"binary_crossentropy\", optimizer=opt,metrics=[\"accuracy\"])\n",
    "model.summary()"
   ]
  },
  {
   "cell_type": "code",
   "execution_count": 81,
   "metadata": {},
   "outputs": [
    {
     "data": {
      "text/plain": [
       "array([[0, 1, 0, 0],\n",
       "       [0, 0, 1, 0],\n",
       "       [1, 0, 0, 0],\n",
       "       ...,\n",
       "       [0, 0, 0, 1],\n",
       "       [1, 0, 0, 0],\n",
       "       [0, 0, 1, 0]])"
      ]
     },
     "execution_count": 81,
     "metadata": {},
     "output_type": "execute_result"
    }
   ],
   "source": [
    "y_test"
   ]
  },
  {
   "cell_type": "code",
   "execution_count": 82,
   "metadata": {},
   "outputs": [
    {
     "name": "stdout",
     "output_type": "stream",
     "text": [
      "Train on 10240 samples\n",
      "Epoch 1/10\n",
      "10240/10240 [==============================] - 109s 11ms/sample - loss: 0.5882 - acc: 0.7443\n",
      "Epoch 2/10\n",
      "10240/10240 [==============================] - 107s 10ms/sample - loss: 0.5619 - acc: 0.7502\n",
      "Epoch 3/10\n",
      "10240/10240 [==============================] - 105s 10ms/sample - loss: 0.5613 - acc: 0.7503\n",
      "Epoch 4/10\n",
      "10240/10240 [==============================] - 106s 10ms/sample - loss: 0.5604 - acc: 0.7506\n",
      "Epoch 5/10\n",
      "10240/10240 [==============================] - 106s 10ms/sample - loss: 0.5593 - acc: 0.7511\n",
      "Epoch 6/10\n",
      "10240/10240 [==============================] - 105s 10ms/sample - loss: 0.5579 - acc: 0.7512\n",
      "Epoch 7/10\n",
      "10240/10240 [==============================] - 105s 10ms/sample - loss: 0.5555 - acc: 0.7522\n",
      "Epoch 8/10\n",
      "10240/10240 [==============================] - 105s 10ms/sample - loss: 0.5524 - acc: 0.7531\n",
      "Epoch 9/10\n",
      "10240/10240 [==============================] - 105s 10ms/sample - loss: 0.5484 - acc: 0.7554\n",
      "Epoch 10/10\n",
      "10240/10240 [==============================] - 105s 10ms/sample - loss: 0.5443 - acc: 0.7566\n"
     ]
    },
    {
     "data": {
      "text/plain": [
       "<tensorflow.python.keras.callbacks.History at 0x1f002cadf60>"
      ]
     },
     "execution_count": 82,
     "metadata": {},
     "output_type": "execute_result"
    }
   ],
   "source": [
    " model.fit(x_train, y_train, epochs=10, batch_size=32, verbose=1)"
   ]
  },
  {
   "cell_type": "code",
   "execution_count": 83,
   "metadata": {},
   "outputs": [
    {
     "data": {
      "text/plain": [
       "0       0\n",
       "1       2\n",
       "2       0\n",
       "3       0\n",
       "4       0\n",
       "       ..\n",
       "2555    0\n",
       "2556    0\n",
       "2557    0\n",
       "2558    0\n",
       "2559    0\n",
       "Length: 2560, dtype: int64"
      ]
     },
     "execution_count": 83,
     "metadata": {},
     "output_type": "execute_result"
    }
   ],
   "source": [
    "from sklearn.metrics import confusion_matrix\n",
    "pred = np.round(model.predict(x_test))\n",
    "test_labels = pd.DataFrame(y_test).idxmax(axis=1)\n",
    "predictions = pd.DataFrame(pred).idxmax(axis=1)\n",
    "predictions\n"
   ]
  },
  {
   "cell_type": "code",
   "execution_count": 84,
   "metadata": {},
   "outputs": [],
   "source": [
    "confusion_matrix= confusion_matrix(test_labels, predictions)"
   ]
  },
  {
   "cell_type": "code",
   "execution_count": 85,
   "metadata": {},
   "outputs": [
    {
     "data": {
      "image/png": "[encoded data removed]",
      "text/plain": [
       "<Figure size 432x288 with 2 Axes>"
      ]
     },
     "metadata": {
      "needs_background": "light"
     },
     "output_type": "display_data"
    }
   ],
   "source": [
    "plot_confusion_matrix(confusion_matrix,['angry' 'happy' 'sad' 'surprise'],normalize=True)"
   ]
  },
  {
   "cell_type": "code",
   "execution_count": 86,
   "metadata": {},
   "outputs": [
    {
     "name": "stdout",
     "output_type": "stream",
     "text": [
      "Accuracy: 25.9765625\n"
     ]
    }
   ],
   "source": [
    "from sklearn.metrics import accuracy_score\n",
    "accuracy=accuracy_score(test_labels, predictions)\n",
    "print('Accuracy:',accuracy*100)"
   ]
  },
  {
   "cell_type": "code",
   "execution_count": 87,
   "metadata": {},
   "outputs": [],
   "source": [
    "from sklearn.preprocessing import LabelBinarizer\n",
    "from keras.models import Sequential\n",
    "from keras.layers.normalization import BatchNormalization\n",
    "from keras.layers.convolutional import Conv2D\n",
    "from keras.layers.convolutional import MaxPooling2D\n",
    "from keras.layers.core import Activation, Flatten, Dropout, Dense\n",
    "from keras import backend as K\n",
    "from keras.preprocessing.image import ImageDataGenerator\n",
    " \n",
    "from keras.preprocessing import image\n",
    "from keras.preprocessing.image import img_to_array\n",
    "from sklearn.preprocessing import MultiLabelBinarizer\n",
    "from sklearn.model_selection import train_test_split"
   ]
  },
  {
   "cell_type": "code",
   "execution_count": 88,
   "metadata": {},
   "outputs": [
    {
     "name": "stdout",
     "output_type": "stream",
     "text": [
      "['angry' 'happy' 'sad' 'surprise']\n",
      "[INFO] Spliting data to train, test\n",
      "Model: \"sequential_2\"\n",
      "_________________________________________________________________\n",
      "Layer (type)                 Output Shape              Param #   \n",
      "=================================================================\n",
      "conv2d_6 (Conv2D)            (None, 156, 156, 32)      896       \n",
      "_________________________________________________________________\n",
      "activation_8 (Activation)    (None, 156, 156, 32)      0         \n",
      "_________________________________________________________________\n",
      "batch_normalization_7 (Batch (None, 156, 156, 32)      128       \n",
      "_________________________________________________________________\n",
      "max_pooling2d_4 (MaxPooling2 (None, 52, 52, 32)        0         \n",
      "_________________________________________________________________\n",
      "dropout_5 (Dropout)          (None, 52, 52, 32)        0         \n",
      "_________________________________________________________________\n",
      "conv2d_7 (Conv2D)            (None, 52, 52, 64)        18496     \n",
      "_________________________________________________________________\n",
      "activation_9 (Activation)    (None, 52, 52, 64)        0         \n",
      "_________________________________________________________________\n",
      "batch_normalization_8 (Batch (None, 52, 52, 64)        256       \n",
      "_________________________________________________________________\n",
      "conv2d_8 (Conv2D)            (None, 52, 52, 64)        36928     \n",
      "_________________________________________________________________\n",
      "activation_10 (Activation)   (None, 52, 52, 64)        0         \n",
      "_________________________________________________________________\n",
      "batch_normalization_9 (Batch (None, 52, 52, 64)        256       \n",
      "_________________________________________________________________\n",
      "max_pooling2d_5 (MaxPooling2 (None, 26, 26, 64)        0         \n",
      "_________________________________________________________________\n",
      "dropout_6 (Dropout)          (None, 26, 26, 64)        0         \n",
      "_________________________________________________________________\n",
      "conv2d_9 (Conv2D)            (None, 26, 26, 128)       73856     \n",
      "_________________________________________________________________\n",
      "activation_11 (Activation)   (None, 26, 26, 128)       0         \n",
      "_________________________________________________________________\n",
      "batch_normalization_10 (Batc (None, 26, 26, 128)       512       \n",
      "_________________________________________________________________\n",
      "conv2d_10 (Conv2D)           (None, 26, 26, 128)       147584    \n",
      "_________________________________________________________________\n",
      "activation_12 (Activation)   (None, 26, 26, 128)       0         \n",
      "_________________________________________________________________\n",
      "batch_normalization_11 (Batc (None, 26, 26, 128)       512       \n",
      "_________________________________________________________________\n",
      "max_pooling2d_6 (MaxPooling2 (None, 13, 13, 128)       0         \n",
      "_________________________________________________________________\n",
      "dropout_7 (Dropout)          (None, 13, 13, 128)       0         \n",
      "_________________________________________________________________\n",
      "flatten_2 (Flatten)          (None, 21632)             0         \n",
      "_________________________________________________________________\n",
      "dense_3 (Dense)              (None, 1024)              22152192  \n",
      "_________________________________________________________________\n",
      "activation_13 (Activation)   (None, 1024)              0         \n",
      "_________________________________________________________________\n",
      "batch_normalization_12 (Batc (None, 1024)              4096      \n",
      "_________________________________________________________________\n",
      "dropout_8 (Dropout)          (None, 1024)              0         \n",
      "_________________________________________________________________\n",
      "dense_4 (Dense)              (None, 4)                 4100      \n",
      "_________________________________________________________________\n",
      "activation_14 (Activation)   (None, 4)                 0         \n",
      "=================================================================\n",
      "Total params: 22,439,812\n",
      "Trainable params: 22,436,932\n",
      "Non-trainable params: 2,880\n",
      "_________________________________________________________________\n",
      "[INFO] training network...\n",
      "Epoch 1/10\n",
      "320/320 [==============================] - 1259s 4s/step - loss: 0.6927 - acc: 0.7021 - val_loss: 0.7498 - val_acc: 0.6916\n",
      "Epoch 2/10\n",
      "320/320 [==============================] - 1206s 4s/step - loss: 0.6128 - acc: 0.7213 - val_loss: 0.6139 - val_acc: 0.7401\n",
      "Epoch 3/10\n",
      "320/320 [==============================] - 5057s 16s/step - loss: 0.5704 - acc: 0.7372 - val_loss: 0.4926 - val_acc: 0.7746\n",
      "Epoch 4/10\n",
      "320/320 [==============================] - 1197s 4s/step - loss: 0.5332 - acc: 0.7544 - val_loss: 0.5803 - val_acc: 0.7333\n",
      "Epoch 5/10\n",
      "320/320 [==============================] - 1741s 5s/step - loss: 0.5255 - acc: 0.7572 - val_loss: 0.5270 - val_acc: 0.7635\n",
      "Epoch 6/10\n",
      "320/320 [==============================] - 1205s 4s/step - loss: 0.5035 - acc: 0.7671 - val_loss: 0.4752 - val_acc: 0.7753\n",
      "Epoch 7/10\n",
      "320/320 [==============================] - 1191s 4s/step - loss: 0.4807 - acc: 0.7775 - val_loss: 0.6864 - val_acc: 0.7326\n",
      "Epoch 8/10\n",
      "320/320 [==============================] - 1189s 4s/step - loss: 0.4668 - acc: 0.7859 - val_loss: 0.4363 - val_acc: 0.7956\n",
      "Epoch 9/10\n",
      "320/320 [==============================] - 1193s 4s/step - loss: 0.4514 - acc: 0.7911 - val_loss: 0.4929 - val_acc: 0.7771\n",
      "Epoch 10/10\n",
      "320/320 [==============================] - 1197s 4s/step - loss: 0.4464 - acc: 0.7933 - val_loss: 0.5791 - val_acc: 0.7310\n"
     ]
    }
   ],
   "source": [
    "image_size = len(image_list)\n",
    "label_binarizer = LabelBinarizer()\n",
    "image_labels = label_binarizer.fit_transform(label_list)\n",
    "pickle.dump(label_binarizer,open('label_transform.pkl', 'wb'))\n",
    "n_classes = len(label_binarizer.classes_)\n",
    "print(label_binarizer.classes_)\n",
    "np_image_list = np.array(image_list, dtype=np.float16) / 225.0\n",
    "print(\"[INFO] Spliting data to train, test\")\n",
    "x_train, x_test, y_train, y_test = train_test_split(np_image_list, image_labels, test_size=0.2, random_state = 42) \n",
    "aug = ImageDataGenerator(\n",
    "rotation_range=25, width_shift_range=0.1,\n",
    "height_shift_range=0.1, shear_range=0.2, \n",
    "zoom_range=0.2,horizontal_flip=True, \n",
    "fill_mode=\"nearest\")\n",
    "model = Sequential()\n",
    "inputShape = (height, width, 3)\n",
    " \n",
    "chanDim = -1\n",
    "if K.image_data_format() == \"channels_first\":\n",
    "    inputShape = (depth, height, width)\n",
    "    chanDim = 1\n",
    "model.add(Conv2D(32,(3, 3), padding=\"same\",input_shape=inputShape))\n",
    "model.add(Activation(\"relu\"))\n",
    "model.add(BatchNormalization(axis=chanDim))\n",
    "model.add(MaxPooling2D(pool_size=(3, 3)))\n",
    "model.add(Dropout(0.25))\n",
    "model.add(Conv2D(64, (3, 3), padding=\"same\"))\n",
    "model.add(Activation(\"relu\"))\n",
    "model.add(BatchNormalization(axis=chanDim))\n",
    "model.add(Conv2D(64, (3, 3), padding=\"same\"))\n",
    "model.add(Activation(\"relu\"))\n",
    "model.add(BatchNormalization(axis=chanDim))\n",
    "model.add(MaxPooling2D(pool_size=(2, 2)))\n",
    "model.add(Dropout(0.25))\n",
    "model.add(Conv2D(128, (3, 3), padding=\"same\"))\n",
    "model.add(Activation(\"relu\"))\n",
    "model.add(BatchNormalization(axis=chanDim))\n",
    "model.add(Conv2D(128, (3, 3), padding=\"same\"))\n",
    "model.add(Activation(\"relu\"))\n",
    "model.add(BatchNormalization(axis=chanDim))\n",
    "model.add(MaxPooling2D(pool_size=(2, 2)))\n",
    "model.add(Dropout(0.25))\n",
    "model.add(Flatten())\n",
    "model.add(Dense(1024))\n",
    "model.add(Activation(\"relu\"))\n",
    "model.add(BatchNormalization())\n",
    "model.add(Dropout(0.5))\n",
    "model.add(Dense(n_classes))\n",
    "model.add(Activation(\"softmax\"))\n",
    "model.summary()\n",
    "opt = Adam(lr=INIT_LR, decay=INIT_LR / EPOCHS)\n",
    "# distribution\n",
    " \n",
    "model.compile(optimizer= \"adam\",loss=\"binary_crossentropy\",metrics=[\"accuracy\"])\n",
    "# train the network\n",
    "print(\"[INFO] training network...\")\n",
    "\n",
    "history = model.fit_generator(\n",
    "    aug.flow(x_train, y_train, batch_size=BS),\n",
    "    validation_data=(x_test, y_test),\n",
    "    steps_per_epoch=len(x_train) // BS,\n",
    "    epochs=EPOCHS, verbose=1\n",
    "    )\n"
   ]
  },
  {
   "cell_type": "code",
   "execution_count": 89,
   "metadata": {},
   "outputs": [
    {
     "name": "stdout",
     "output_type": "stream",
     "text": [
      "[INFO] Calculating model accuracy\n",
      "2560/2560 [==============================] - 124s 48ms/step\n",
      "Test Accuracy: 73.095703125\n"
     ]
    }
   ],
   "source": [
    "print(\"[INFO] Calculating model accuracy\")\n",
    "scores = model.evaluate(x_test, y_test)\n",
    "print(f\"Test Accuracy: {scores[1]*100}\")"
   ]
  },
  {
   "cell_type": "code",
   "execution_count": null,
   "metadata": {},
   "outputs": [],
   "source": []
  }
 ],
 "metadata": {
  "kernelspec": {
   "display_name": "Python 3 (ipykernel)",
   "language": "python",
   "name": "python3"
  },
  "language_info": {
   "codemirror_mode": {
    "name": "ipython",
    "version": 3
   },
   "file_extension": ".py",
   "mimetype": "text/x-python",
   "name": "python",
   "nbconvert_exporter": "python",
   "pygments_lexer": "ipython3",
   "version": "3.7.0"
  }
 },
 "nbformat": 4,
 "nbformat_minor": 2
}
