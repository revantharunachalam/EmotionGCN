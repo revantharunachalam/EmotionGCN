{
 "cells": [
  {
   "cell_type": "code",
   "execution_count": 1,
   "metadata": {},
   "outputs": [
    {
     "name": "stderr",
     "output_type": "stream",
     "text": [
      "\n",
      "Bad key savefig.frameon in file C:\\ProgramData\\Anaconda3\\envs\\gcn\\lib\\site-packages\\matplotlib\\mpl-data\\stylelib\\_classic_test.mplstyle, line 421 ('savefig.frameon : True')\n",
      "You probably need to get an updated matplotlibrc file from\n",
      "https://github.com/matplotlib/matplotlib/blob/v3.4.2/matplotlibrc.template\n",
      "or from the matplotlib source distribution\n",
      "\n",
      "Bad key verbose.level in file C:\\ProgramData\\Anaconda3\\envs\\gcn\\lib\\site-packages\\matplotlib\\mpl-data\\stylelib\\_classic_test.mplstyle, line 472 ('verbose.level  : silent      # one of silent, helpful, debug, debug-annoying')\n",
      "You probably need to get an updated matplotlibrc file from\n",
      "https://github.com/matplotlib/matplotlib/blob/v3.4.2/matplotlibrc.template\n",
      "or from the matplotlib source distribution\n",
      "\n",
      "Bad key verbose.fileo in file C:\\ProgramData\\Anaconda3\\envs\\gcn\\lib\\site-packages\\matplotlib\\mpl-data\\stylelib\\_classic_test.mplstyle, line 473 ('verbose.fileo  : sys.stdout  # a log filename, sys.stdout or sys.stderr')\n",
      "You probably need to get an updated matplotlibrc file from\n",
      "https://github.com/matplotlib/matplotlib/blob/v3.4.2/matplotlibrc.template\n",
      "or from the matplotlib source distribution\n"
     ]
    }
   ],
   "source": [
    "import warnings\n",
    "warnings.filterwarnings('ignore')\n",
    "import numpy as np                     \n",
    "import matplotlib.pyplot as plt\n",
    "import os\n",
    "\n"
   ]
  },
  {
   "cell_type": "code",
   "execution_count": 2,
   "metadata": {},
   "outputs": [],
   "source": [
    "import cv2 as cv\n",
    "import random\n",
    "import torchvision\n",
    "import glob"
   ]
  },
  {
   "cell_type": "code",
   "execution_count": 3,
   "metadata": {},
   "outputs": [],
   "source": [
    "import time \n",
    "import pickle\n",
    "import pandas as pd\n",
    "from pathlib import Path\n",
    "from PIL import Image\n",
    "import h5py\n",
    "from pathlib import Path\n",
    "import json\n",
    "from os import listdir\n",
    "import itertools"
   ]
  },
  {
   "cell_type": "code",
   "execution_count": 4,
   "metadata": {},
   "outputs": [],
   "source": [
    "from sklearn.model_selection import train_test_split\n",
    "from sklearn.linear_model import LinearRegression\n",
    "from sklearn.preprocessing import LabelEncoder\n",
    "from sklearn.preprocessing import MinMaxScaler\n"
   ]
  },
  {
   "cell_type": "code",
   "execution_count": 5,
   "metadata": {},
   "outputs": [
    {
     "name": "stdout",
     "output_type": "stream",
     "text": [
      "done loading\n"
     ]
    }
   ],
   "source": [
    "\n",
    "from sklearn import metrics\n",
    "from sklearn.metrics import confusion_matrix\n",
    "\n",
    "from sklearn.preprocessing import LabelBinarizer\n",
    "from sklearn.preprocessing import MultiLabelBinarizer\n",
    "from sklearn.model_selection import train_test_split\n",
    "\n",
    "print('done loading')"
   ]
  },
  {
   "cell_type": "code",
   "execution_count": 6,
   "metadata": {},
   "outputs": [
    {
     "name": "stdout",
     "output_type": "stream",
     "text": [
      "done loading\n"
     ]
    }
   ],
   "source": [
    "from tensorflow.keras.datasets import cifar10\n",
    "from tensorflow.keras.models import Sequential\n",
    "from tensorflow.keras.layers import Dense, Flatten, Conv2D,MaxPool2D,Dropout,Activation,LeakyReLU\n",
    "from tensorflow.keras.losses import sparse_categorical_crossentropy\n",
    "from tensorflow.keras.optimizers import Adam\n",
    "from tensorflow.keras.preprocessing.image import img_to_array,ImageDataGenerator \n",
    "from tensorflow.keras.preprocessing import image  \n",
    "from tensorflow.keras.layers import BatchNormalization\n",
    "from tensorflow.keras.optimizers import Adam\n",
    "from tensorflow.keras import backend as K\n",
    "print('done loading')"
   ]
  },
  {
   "cell_type": "code",
   "execution_count": 7,
   "metadata": {},
   "outputs": [],
   "source": [
    "def folders_in_path(path): #takes path as input\n",
    "    if not Path.is_dir(path): #checks if path exsist\n",
    "        raise ValueError(\"argument is not directory\") #produses error\n",
    "        #if not in directory\n",
    "    yield from filter(Path.is_dir,path.iterdir())\n",
    "def folders_in_depth(path,depth):\n",
    "    if 0>depth:\n",
    "        raise ValueError(\"depth smaller 0\")\n",
    "    if 0==depth:\n",
    "        yield from folders_in_path(path)\n",
    "    else:\n",
    "        for folder in folders_in_path(path):\n",
    "            yield from folders_in_depth(folder,depth-1)\n",
    "def files_in_path(path):\n",
    "    if not Path.is_dir(path):\n",
    "        raise ValueError(\"argument is not a directory\")\n",
    "    yield from filter(Path.is_file,path.iterdir())\n",
    "def sum_file_size(filepaths):\n",
    "    return sum([filep.stat().st_size for filep in filepaths])\n",
    "def convert_image_to_array(image_dir):\n",
    "    try:\n",
    "        image = cv.imread(image_dir)\n",
    "        if image is not None :\n",
    "            image = cv.resize(image, default_image_size)   \n",
    "            return img_to_array(image)\n",
    "        else :\n",
    "            return np.array([])\n",
    "    except Exception as e:\n",
    "        print(f\"Error : {e}\")\n",
    "        return None \n",
    "  "
   ]
  },
  {
   "cell_type": "code",
   "execution_count": 8,
   "metadata": {},
   "outputs": [],
   "source": [
    "def load_train(path):\n",
    "    images = []\n",
    "    for label in labels:\n",
    "        direc = os.path.join(path, label)\n",
    "        class_num = labels.index(label)\n",
    "        for image in os.listdir(direc):\n",
    "            image_read = cv.imread(os.path.join(direc,image),cv.IMREAD_GRAYSCALE)\n",
    "            image_resized = cv.resize(image_read,(image_size,image_size))\n",
    "            images.append([image_resized,class_num])\n",
    "            \n",
    "    return np.array(images)\n",
    " "
   ]
  },
  {
   "cell_type": "code",
   "execution_count": 26,
   "metadata": {
    "scrolled": false
   },
   "outputs": [
    {
     "name": "stdout",
     "output_type": "stream",
     "text": [
      "['angry', 'happy', 'sad', 'surprise']\n",
      "The labels are ['angry', 'happy', 'sad', 'surprise']\n",
      "Done loading all images\n",
      "Length of X = 19300\n",
      "Length of y = 19300\n",
      "Number of class 1 images = 3993\n",
      "Number of class 2 images = 7164\n",
      "Number of class 3 images = 4938\n"
     ]
    }
   ],
   "source": [
    "# looking into complete folder to understand number of images \n",
    "path = 'E:\\PythonProjects\\Emotion_detection\\\\train_trim\\\\'\n",
    "train = os.listdir(path)\n",
    "folders=[]\n",
    "folders = [f for f in sorted(os.listdir(path))]\n",
    "print(folders)\n",
    "labels = folders\n",
    "print (f'The labels are {labels}')\n",
    "image_size = 56\n",
    "train_images = load_train(path)\n",
    "X = []\n",
    "y = []\n",
    "for feature, label in train_images:\n",
    "    X.append(feature)\n",
    "    y.append(label)\n",
    "print('Done loading all images')    \n",
    "print (f'Length of X = {len(X)}')\n",
    "print (f'Length of y = {len(y)}')\n",
    "## checking the number of images of each class\n",
    "a = 0\n",
    "b = 0\n",
    "c = 0\n",
    "d = 0\n",
    "e = 0\n",
    "for label in y:\n",
    "   if label == 0:\n",
    "        a += 1\n",
    "   if label == 1:\n",
    "       b += 1\n",
    "   if label == 2:\n",
    "       c += 1\n",
    "   if label == 3:\n",
    "       d += 1\n",
    "   if label == 4:\n",
    "       e += 1\n",
    "#        \n",
    "print (f'Number of class 1 images = {a}')\n",
    "print (f'Number of class 2 images = {b}')\n",
    "print (f'Number of class 3 images = {c}')\n",
    " \n"
   ]
  },
  {
   "cell_type": "code",
   "execution_count": 44,
   "metadata": {},
   "outputs": [],
   "source": [
    "train_path=path\n",
    "EPOCHS = 10 #50\n",
    "INIT_LR = 1e-3\n",
    "BS = 32\n",
    "default_image_size = tuple((156, 156))\n",
    "image_size = 0\n",
    "width=156\n",
    "height=156\n",
    "depth=1"
   ]
  },
  {
   "cell_type": "code",
   "execution_count": 45,
   "metadata": {},
   "outputs": [
    {
     "name": "stdout",
     "output_type": "stream",
     "text": [
      "['angry', 'happy', 'sad', 'surprise']\n",
      "C:\\Users\\kunde\\Downloads\\drive-download-20211017T064942Z-001\n"
     ]
    }
   ],
   "source": [
    "image_list, label_list = [], []\n",
    "train_labels=os.listdir(train_path) #take training path labels\n",
    "train_labels.sort() #sort the labels\n",
    "print(train_labels) #primt the lables\n",
    "global_features=[] #initialize variable to combine all features\n",
    "labels=[] #create label variables so as to decode text to number\n",
    "total=0 #initialize\n",
    "tot_file=[] #initialize\n",
    "count=1 #start count to check number of images\n",
    "i=0\n",
    "j=0\n",
    "k=0\n",
    "print(Path.cwd()) #gives the current path"
   ]
  },
  {
   "cell_type": "code",
   "execution_count": 46,
   "metadata": {},
   "outputs": [
    {
     "name": "stdout",
     "output_type": "stream",
     "text": [
      "C:\\Users\\kunde\\Downloads\\drive-download-20211017T064942Z-001\\src\\__pycache__:filecount:3,total size:8806\n",
      "C:\\Users\\kunde\\Downloads\\drive-download-20211017T064942Z-001\\train_trim\\angry:filecount:3993,total size:6332643\n",
      "C:\\Users\\kunde\\Downloads\\drive-download-20211017T064942Z-001\\train_trim\\happy:filecount:7164,total size:11296707\n",
      "C:\\Users\\kunde\\Downloads\\drive-download-20211017T064942Z-001\\train_trim\\sad:filecount:4938,total size:7640144\n",
      "C:\\Users\\kunde\\Downloads\\drive-download-20211017T064942Z-001\\train_trim\\surprise:filecount:3205,total size:5182401\n"
     ]
    }
   ],
   "source": [
    "for folder in folders_in_depth(Path.cwd(),1):\n",
    "        #first loop will pick the first foldend then next folder\n",
    "        files=list(files_in_path(folder)) #list all files in folder\n",
    "        file=len(files) #length of files\n",
    "        tot_file.append(file) #because we are running for all folder\n",
    "        # we are appending all files in tot_file at the end we\n",
    "        #shall get the list of number of files in the folder\n",
    "        #we are doing this because every folder has different number of files\n",
    "        #at the end when we are trainig all class of disease have to be\n",
    "        #trained equally, hence find the least number of images in the folder\n",
    "        #and then train accordingly\n",
    "        total_size=sum_file_size(files)\n",
    "        #total size of files\n",
    "        count=count+1 #check total number of files executed\n",
    "        print(f'{folder}:filecount:{len(files)},total size:{total_size}')"
   ]
  },
  {
   "cell_type": "code",
   "execution_count": 47,
   "metadata": {},
   "outputs": [
    {
     "name": "stdout",
     "output_type": "stream",
     "text": [
      "tOTAL FILE: [3, 3205, 3993, 4938, 7164]\n",
      "3205\n"
     ]
    }
   ],
   "source": [
    "tot_file.sort() #sort files based on ascending order\n",
    "num=tot_file[1]#tot_file[2] #Index 0 is junkhence extract index 1\n",
    "print('tOTAL FILE:',tot_file)\n",
    "print(num) "
   ]
  },
  {
   "cell_type": "code",
   "execution_count": 48,
   "metadata": {},
   "outputs": [],
   "source": [
    "images_per_class=num #consider number of images per class\n",
    "#%%START WITH TRAINING\n",
    "#for tr_name in range(0,2):\n",
    "count=0   "
   ]
  },
  {
   "cell_type": "code",
   "execution_count": 49,
   "metadata": {},
   "outputs": [
    {
     "name": "stdout",
     "output_type": "stream",
     "text": [
      "3205\n"
     ]
    }
   ],
   "source": [
    "path1=path \n",
    "print(images_per_class)"
   ]
  },
  {
   "cell_type": "code",
   "execution_count": 50,
   "metadata": {},
   "outputs": [
    {
     "name": "stdout",
     "output_type": "stream",
     "text": [
      "C:\\Users\\kunde\\Downloads\\drive-download-20211017T064942Z-001\\train_trim\\angry\n",
      "[STATUS] processed folder: angry\n",
      "C:\\Users\\kunde\\Downloads\\drive-download-20211017T064942Z-001\\train_trim\\happy\n",
      "[STATUS] processed folder: happy\n",
      "C:\\Users\\kunde\\Downloads\\drive-download-20211017T064942Z-001\\train_trim\\sad\n",
      "[STATUS] processed folder: sad\n",
      "C:\\Users\\kunde\\Downloads\\drive-download-20211017T064942Z-001\\train_trim\\surprise\n",
      "[STATUS] processed folder: surprise\n",
      "[STATUS] training labels(12820,)\n"
     ]
    }
   ],
   "source": [
    "for count in range(0,len(train_labels)):\n",
    "   \n",
    "    tr_name=count\n",
    "    \n",
    "    dir=train_path+train_labels[tr_name]\n",
    "    print(dir)\n",
    "    current_label=train_labels[tr_name]\n",
    "    print(\"[STATUS] processed folder: {}\".format(current_label))\n",
    "    k=1\n",
    "    file_sub_folder=os.listdir(dir) \n",
    "    for x in range(0,images_per_class):\n",
    "        file=dir +'/'+ file_sub_folder[x]\n",
    "#         print(file)    \n",
    "        image_list.append(convert_image_to_array(file ))\n",
    "        label_list.append(current_label) \n",
    "        i+=1\n",
    "        k+=1    \n",
    "        count=count+1\n",
    "print(\"[STATUS] training labels{}\".format(np.array(label_list).shape))"
   ]
  },
  {
   "cell_type": "code",
   "execution_count": 51,
   "metadata": {},
   "outputs": [
    {
     "name": "stdout",
     "output_type": "stream",
     "text": [
      "12820\n",
      "['angry' 'happy' 'sad' 'surprise']\n",
      "4\n"
     ]
    }
   ],
   "source": [
    "image_size = len(image_list)\n",
    "print(image_size)\n",
    "label_binarizer = LabelBinarizer()\n",
    "image_labels = label_binarizer.fit_transform(label_list)\n",
    "pickle.dump(label_binarizer,open('label_transform.pkl', 'wb'))\n",
    "n_classes = len(label_binarizer.classes_)\n",
    "print(label_binarizer.classes_)\n",
    "print(n_classes)"
   ]
  },
  {
   "cell_type": "code",
   "execution_count": 52,
   "metadata": {},
   "outputs": [
    {
     "name": "stdout",
     "output_type": "stream",
     "text": [
      "12820\n"
     ]
    }
   ],
   "source": [
    "print(len(image_list))\n",
    "\n"
   ]
  },
  {
   "cell_type": "code",
   "execution_count": 53,
   "metadata": {},
   "outputs": [
    {
     "name": "stdout",
     "output_type": "stream",
     "text": [
      "[INFO] Spliting data to train, test\n"
     ]
    }
   ],
   "source": [
    "np_image_list = np.array(image_list, dtype=np.float16) / 225.0\n",
    "print(\"[INFO] Spliting data to train, test\")\n",
    "x_train, x_test, y_train, y_test = train_test_split(np_image_list, image_labels, test_size=0.2, random_state = 42) \n"
   ]
  },
  {
   "cell_type": "code",
   "execution_count": 54,
   "metadata": {},
   "outputs": [],
   "source": [
    "def plot_confusion_matrix(cm, classes,normalize=False,title='Confusion matrix',cmap=plt.cm.Blues):\n",
    "    plt.imshow(cm, interpolation='nearest', cmap=cmap)\n",
    "    plt.title(title)\n",
    "    plt.colorbar()\n",
    "    tick_marks = np.arange(len(classes))\n",
    "    plt.xticks(tick_marks, classes, rotation=45)\n",
    "    plt.yticks(tick_marks, classes)\n",
    "    fmt ='.2f' if normalize else 'd'\n",
    "    thresh = cm.max() / 2.\n",
    "    for i, j in itertools.product(range(cm.shape[0]), range(cm.shape[1])):\n",
    "        plt.text(j, i, format(cm[i, j], fmt), horizontalalignment=\"center\", color=\"white\" if cm[i, j] > thresh else \"black\")\n",
    "    plt.tight_layout()\n",
    "    plt.ylabel('True label')\n",
    "    plt.xlabel('Predicted label') "
   ]
  },
  {
   "cell_type": "code",
   "execution_count": 59,
   "metadata": {
    "scrolled": true
   },
   "outputs": [
    {
     "name": "stdout",
     "output_type": "stream",
     "text": [
      "Model: \"sequential_6\"\n",
      "_________________________________________________________________\n",
      "Layer (type)                 Output Shape              Param #   \n",
      "=================================================================\n",
      "conv2d_15 (Conv2D)           (None, 155, 155, 2)       26        \n",
      "_________________________________________________________________\n",
      "batch_normalization_12 (Batc (None, 155, 155, 2)       8         \n",
      "_________________________________________________________________\n",
      "leaky_re_lu_12 (LeakyReLU)   (None, 155, 155, 2)       0         \n",
      "_________________________________________________________________\n",
      "max_pooling2d_12 (MaxPooling (None, 38, 38, 2)         0         \n",
      "_________________________________________________________________\n",
      "conv2d_16 (Conv2D)           (None, 35, 35, 4)         132       \n",
      "_________________________________________________________________\n",
      "batch_normalization_13 (Batc (None, 35, 35, 4)         16        \n",
      "_________________________________________________________________\n",
      "leaky_re_lu_13 (LeakyReLU)   (None, 35, 35, 4)         0         \n",
      "_________________________________________________________________\n",
      "max_pooling2d_13 (MaxPooling (None, 17, 17, 4)         0         \n",
      "_________________________________________________________________\n",
      "flatten_3 (Flatten)          (None, 1156)              0         \n",
      "_________________________________________________________________\n",
      "dense_3 (Dense)              (None, 4)                 4628      \n",
      "_________________________________________________________________\n",
      "activation_2 (Activation)    (None, 4)                 0         \n",
      "=================================================================\n",
      "Total params: 4,810\n",
      "Trainable params: 4,798\n",
      "Non-trainable params: 12\n",
      "_________________________________________________________________\n"
     ]
    }
   ],
   "source": [
    "# Create the model\n",
    "input_shape=x_test[0].shape\n",
    "model = Sequential()\n",
    "model.add(Conv2D(2, kernel_size=(2, 2), activation='relu', input_shape=input_shape))\n",
    "model.add(BatchNormalization())\n",
    "model.add(LeakyReLU(alpha=0.1))\n",
    "model.add(MaxPool2D(pool_size=(4,4)))\n",
    "model.add(Conv2D(4, kernel_size=(4, 4), activation='relu', input_shape=input_shape))\n",
    "model.add(BatchNormalization())\n",
    "model.add(LeakyReLU(alpha=0.2))\n",
    "model.add(MaxPool2D(pool_size=(2,2)))\n",
    "model.add(Flatten())\n",
    "model.add(Dense(n_classes))\n",
    "model.add(Activation(\"softmax\"))\n",
    "# Compile the model\n",
    "opt = Adam(lr=INIT_LR, decay=INIT_LR / EPOCHS)\n",
    "model.compile(loss=\"binary_crossentropy\", optimizer=opt,metrics=[\"accuracy\"])\n",
    "model.summary()"
   ]
  },
  {
   "cell_type": "code",
   "execution_count": 60,
   "metadata": {},
   "outputs": [
    {
     "data": {
      "text/plain": [
       "array([[0, 0, 1, 0],\n",
       "       [0, 1, 0, 0],\n",
       "       [0, 1, 0, 0],\n",
       "       ...,\n",
       "       [0, 1, 0, 0],\n",
       "       [0, 1, 0, 0],\n",
       "       [0, 1, 0, 0]])"
      ]
     },
     "execution_count": 60,
     "metadata": {},
     "output_type": "execute_result"
    }
   ],
   "source": [
    "y_test"
   ]
  },
  {
   "cell_type": "code",
   "execution_count": 61,
   "metadata": {},
   "outputs": [
    {
     "name": "stdout",
     "output_type": "stream",
     "text": [
      "WARNING:tensorflow:From C:\\ProgramData\\Anaconda3\\envs\\gcn\\lib\\site-packages\\tensorflow_core\\python\\ops\\math_grad.py:1424: where (from tensorflow.python.ops.array_ops) is deprecated and will be removed in a future version.\n",
      "Instructions for updating:\n",
      "Use tf.where in 2.0, which has the same broadcast rule as np.where\n",
      "Train on 10256 samples\n",
      "Epoch 1/10\n",
      "10256/10256 [==============================] - 58s 6ms/sample - loss: 0.5479 - acc: 0.7502\n",
      "Epoch 2/10\n",
      "10256/10256 [==============================] - 57s 6ms/sample - loss: 0.4829 - acc: 0.7768\n",
      "Epoch 3/10\n",
      "10256/10256 [==============================] - 57s 6ms/sample - loss: 0.4576 - acc: 0.7910\n",
      "Epoch 4/10\n",
      "10256/10256 [==============================] - 57s 6ms/sample - loss: 0.4440 - acc: 0.79670s - loss: 0.4439 - acc: 0.79\n",
      "Epoch 5/10\n",
      "10256/10256 [==============================] - 60s 6ms/sample - loss: 0.4331 - acc: 0.8032\n",
      "Epoch 6/10\n",
      "10256/10256 [==============================] - 59s 6ms/sample - loss: 0.4267 - acc: 0.8061\n",
      "Epoch 7/10\n",
      "10256/10256 [==============================] - 59s 6ms/sample - loss: 0.4191 - acc: 0.81133s - loss: 0.4\n",
      "Epoch 8/10\n",
      "10256/10256 [==============================] - 59s 6ms/sample - loss: 0.4131 - acc: 0.8151\n",
      "Epoch 9/10\n",
      "10256/10256 [==============================] - 58s 6ms/sample - loss: 0.4080 - acc: 0.8175\n",
      "Epoch 10/10\n",
      "10256/10256 [==============================] - 57s 6ms/sample - loss: 0.4039 - acc: 0.81812s - loss: 0.4036\n"
     ]
    },
    {
     "data": {
      "text/plain": [
       "<tensorflow.python.keras.callbacks.History at 0x2a510fc6f60>"
      ]
     },
     "execution_count": 61,
     "metadata": {},
     "output_type": "execute_result"
    }
   ],
   "source": [
    " model.fit(x_train, y_train, epochs=10, batch_size=32, verbose=1)"
   ]
  },
  {
   "cell_type": "code",
   "execution_count": 65,
   "metadata": {},
   "outputs": [
    {
     "data": {
      "text/plain": [
       "0       0\n",
       "1       1\n",
       "2       0\n",
       "3       3\n",
       "4       3\n",
       "       ..\n",
       "2559    0\n",
       "2560    2\n",
       "2561    1\n",
       "2562    0\n",
       "2563    0\n",
       "Length: 2564, dtype: int64"
      ]
     },
     "execution_count": 65,
     "metadata": {},
     "output_type": "execute_result"
    }
   ],
   "source": [
    "from sklearn.metrics import confusion_matrix\n",
    "test_labels = pd.DataFrame(y_test).idxmax(axis=1)\n",
    "predictions = pd.DataFrame(pred).idxmax(axis=1)\n",
    "predictions\n",
    "\n"
   ]
  },
  {
   "cell_type": "code",
   "execution_count": 66,
   "metadata": {},
   "outputs": [],
   "source": [
    "confusion_matrix= confusion_matrix(test_labels, predictions)"
   ]
  },
  {
   "cell_type": "code",
   "execution_count": 67,
   "metadata": {},
   "outputs": [
    {
     "data": {
      "image/png": "[encoded data removed]",
      "text/plain": [
       "<Figure size 432x288 with 2 Axes>"
      ]
     },
     "metadata": {
      "needs_background": "light"
     },
     "output_type": "display_data"
    }
   ],
   "source": [
    "plot_confusion_matrix(confusion_matrix,['angry' 'happy' 'sad' 'surprise'],normalize=True)"
   ]
  },
  {
   "cell_type": "code",
   "execution_count": 68,
   "metadata": {},
   "outputs": [
    {
     "name": "stdout",
     "output_type": "stream",
     "text": [
      "Accuracy: 49.609984399375975\n"
     ]
    }
   ],
   "source": [
    "from sklearn.metrics import accuracy_score\n",
    "accuracy=accuracy_score(test_labels, predictions)\n",
    "print('Accuracy:',accuracy*100)"
   ]
  },
  {
   "cell_type": "code",
   "execution_count": 70,
   "metadata": {},
   "outputs": [
    {
     "name": "stderr",
     "output_type": "stream",
     "text": [
      "Using TensorFlow backend.\n"
     ]
    }
   ],
   "source": [
    "from sklearn.preprocessing import LabelBinarizer\n",
    "from keras.models import Sequential\n",
    "from keras.layers.normalization import BatchNormalization\n",
    "from keras.layers.convolutional import Conv2D\n",
    "from keras.layers.convolutional import MaxPooling2D\n",
    "from keras.layers.core import Activation, Flatten, Dropout, Dense\n",
    "from keras import backend as K\n",
    "from keras.preprocessing.image import ImageDataGenerator\n",
    " \n",
    "from keras.preprocessing import image\n",
    "from keras.preprocessing.image import img_to_array\n",
    "from sklearn.preprocessing import MultiLabelBinarizer\n",
    "from sklearn.model_selection import train_test_split"
   ]
  },
  {
   "cell_type": "code",
   "execution_count": null,
   "metadata": {},
   "outputs": [
    {
     "name": "stdout",
     "output_type": "stream",
     "text": [
      "['angry' 'happy' 'sad' 'surprise']\n",
      "[INFO] Spliting data to train, test\n",
      "Model: \"sequential_4\"\n",
      "_________________________________________________________________\n",
      "Layer (type)                 Output Shape              Param #   \n",
      "=================================================================\n",
      "conv2d_11 (Conv2D)           (None, 156, 156, 32)      896       \n",
      "_________________________________________________________________\n",
      "activation_15 (Activation)   (None, 156, 156, 32)      0         \n",
      "_________________________________________________________________\n",
      "batch_normalization_13 (Batc (None, 156, 156, 32)      128       \n",
      "_________________________________________________________________\n",
      "max_pooling2d_7 (MaxPooling2 (None, 52, 52, 32)        0         \n",
      "_________________________________________________________________\n",
      "dropout_9 (Dropout)          (None, 52, 52, 32)        0         \n",
      "_________________________________________________________________\n",
      "conv2d_12 (Conv2D)           (None, 52, 52, 64)        18496     \n",
      "_________________________________________________________________\n",
      "activation_16 (Activation)   (None, 52, 52, 64)        0         \n",
      "_________________________________________________________________\n",
      "batch_normalization_14 (Batc (None, 52, 52, 64)        256       \n",
      "_________________________________________________________________\n",
      "conv2d_13 (Conv2D)           (None, 52, 52, 64)        36928     \n",
      "_________________________________________________________________\n",
      "activation_17 (Activation)   (None, 52, 52, 64)        0         \n",
      "_________________________________________________________________\n",
      "batch_normalization_15 (Batc (None, 52, 52, 64)        256       \n",
      "_________________________________________________________________\n",
      "max_pooling2d_8 (MaxPooling2 (None, 26, 26, 64)        0         \n",
      "_________________________________________________________________\n",
      "dropout_10 (Dropout)         (None, 26, 26, 64)        0         \n",
      "_________________________________________________________________\n",
      "conv2d_14 (Conv2D)           (None, 26, 26, 128)       73856     \n",
      "_________________________________________________________________\n",
      "activation_18 (Activation)   (None, 26, 26, 128)       0         \n",
      "_________________________________________________________________\n",
      "batch_normalization_16 (Batc (None, 26, 26, 128)       512       \n",
      "_________________________________________________________________\n",
      "conv2d_15 (Conv2D)           (None, 26, 26, 128)       147584    \n",
      "_________________________________________________________________\n",
      "activation_19 (Activation)   (None, 26, 26, 128)       0         \n",
      "_________________________________________________________________\n",
      "batch_normalization_17 (Batc (None, 26, 26, 128)       512       \n",
      "_________________________________________________________________\n",
      "max_pooling2d_9 (MaxPooling2 (None, 13, 13, 128)       0         \n",
      "_________________________________________________________________\n",
      "dropout_11 (Dropout)         (None, 13, 13, 128)       0         \n",
      "_________________________________________________________________\n",
      "flatten_3 (Flatten)          (None, 21632)             0         \n",
      "_________________________________________________________________\n",
      "dense_5 (Dense)              (None, 1024)              22152192  \n",
      "_________________________________________________________________\n",
      "activation_20 (Activation)   (None, 1024)              0         \n",
      "_________________________________________________________________\n",
      "batch_normalization_18 (Batc (None, 1024)              4096      \n",
      "_________________________________________________________________\n",
      "dropout_12 (Dropout)         (None, 1024)              0         \n",
      "_________________________________________________________________\n",
      "dense_6 (Dense)              (None, 4)                 4100      \n",
      "_________________________________________________________________\n",
      "activation_21 (Activation)   (None, 4)                 0         \n",
      "=================================================================\n",
      "Total params: 22,439,812\n",
      "Trainable params: 22,436,932\n",
      "Non-trainable params: 2,880\n",
      "_________________________________________________________________\n",
      "[INFO] training network...\n",
      "Epoch 1/10\n",
      "319/320 [============================>.] - ETA: 2s - loss: 0.7404 - acc: 0.6942"
     ]
    }
   ],
   "source": [
    "image_size = len(image_list)\n",
    "label_binarizer = LabelBinarizer()\n",
    "image_labels = label_binarizer.fit_transform(label_list)\n",
    "pickle.dump(label_binarizer,open('label_transform.pkl', 'wb'))\n",
    "n_classes = len(label_binarizer.classes_)\n",
    "print(label_binarizer.classes_)\n",
    "np_image_list = np.array(image_list, dtype=np.float16) / 225.0\n",
    "print(\"[INFO] Spliting data to train, test\")\n",
    "x_train, x_test, y_train, y_test = train_test_split(np_image_list, image_labels, test_size=0.2, random_state = 42) \n",
    "aug = ImageDataGenerator(\n",
    "rotation_range=25, width_shift_range=0.1,\n",
    "height_shift_range=0.1, shear_range=0.2, \n",
    "zoom_range=0.2,horizontal_flip=True, \n",
    "fill_mode=\"nearest\")\n",
    "model = Sequential()\n",
    "inputShape = (height, width, 3)\n",
    " \n",
    "chanDim = -1\n",
    "if K.image_data_format() == \"channels_first\":\n",
    "    inputShape = (depth, height, width)\n",
    "    chanDim = 1\n",
    "model.add(Conv2D(32,(3, 3), padding=\"same\",input_shape=inputShape))\n",
    "model.add(Activation(\"relu\"))\n",
    "model.add(BatchNormalization(axis=chanDim))\n",
    "model.add(MaxPooling2D(pool_size=(3, 3)))\n",
    "model.add(Dropout(0.25))\n",
    "model.add(Conv2D(64, (3, 3), padding=\"same\"))\n",
    "model.add(Activation(\"relu\"))\n",
    "model.add(BatchNormalization(axis=chanDim))\n",
    "model.add(Conv2D(64, (3, 3), padding=\"same\"))\n",
    "model.add(Activation(\"relu\"))\n",
    "model.add(BatchNormalization(axis=chanDim))\n",
    "model.add(MaxPooling2D(pool_size=(2, 2)))\n",
    "model.add(Dropout(0.25))\n",
    "model.add(Conv2D(128, (3, 3), padding=\"same\"))\n",
    "model.add(Activation(\"relu\"))\n",
    "model.add(BatchNormalization(axis=chanDim))\n",
    "model.add(Conv2D(128, (3, 3), padding=\"same\"))\n",
    "model.add(Activation(\"relu\"))\n",
    "model.add(BatchNormalization(axis=chanDim))\n",
    "model.add(MaxPooling2D(pool_size=(2, 2)))\n",
    "model.add(Dropout(0.25))\n",
    "model.add(Flatten())\n",
    "model.add(Dense(1024))\n",
    "model.add(Activation(\"relu\"))\n",
    "model.add(BatchNormalization())\n",
    "model.add(Dropout(0.5))\n",
    "model.add(Dense(n_classes))\n",
    "model.add(Activation(\"softmax\"))\n",
    "model.summary()\n",
    "opt = Adam(lr=INIT_LR, decay=INIT_LR / EPOCHS)\n",
    "# distribution\n",
    " \n",
    "model.compile(optimizer= \"adam\",loss=\"binary_crossentropy\",metrics=[\"accuracy\"])\n",
    "# train the network\n",
    "print(\"[INFO] training network...\")\n",
    "\n",
    "history = model.fit_generator(\n",
    "    aug.flow(x_train, y_train, batch_size=BS),\n",
    "    validation_data=(x_test, y_test),\n",
    "    steps_per_epoch=len(x_train) // BS,\n",
    "    epochs=EPOCHS, verbose=1\n",
    "    )\n",
    "\n",
    "\n",
    "\n",
    " \n"
   ]
  },
  {
   "cell_type": "code",
   "execution_count": null,
   "metadata": {},
   "outputs": [],
   "source": [
    "  \n",
    "print(\"[INFO] Calculating model accuracy\")\n",
    "scores = model.evaluate(x_test, y_test)\n",
    "print(f\"Test Accuracy: {scores[1]*100}\")"
   ]
  },
  {
   "cell_type": "code",
   "execution_count": null,
   "metadata": {},
   "outputs": [],
   "source": [
    "from sklearn import metrics\n",
    "pred=np.round(model.predict(x_test))\n",
    "dia_data=['angry' 'happy' 'sad' 'surprise']\n",
    "metrics=metrics.classification_report(y_test,pred,target_names=dia_data)\n",
    "print(metrics)\n",
    "from sklearn.metrics import confusion_matrix\n",
    "test_labels = pd.DataFrame(y_test).idxmax(axis=1)\n",
    "predictions = pd.DataFrame(pred).idxmax(axis=1)\n",
    "predictions\n",
    "confusion_matrix= confusion_matrix(test_labels, predictions)\n",
    "plot_confusion_matrix(confusion_matrix,['angry' 'happy' 'sad' 'surprise'],normalize=True)\n",
    "from sklearn.metrics import accuracy_score\n",
    "accuracy=accuracy_score(test_labels, predictions)\n",
    "print('Accuracy:',accuracy*100)\n",
    " "
   ]
  },
  {
   "cell_type": "code",
   "execution_count": null,
   "metadata": {},
   "outputs": [],
   "source": []
  }
 ],
 "metadata": {
  "kernelspec": {
   "display_name": "gcn",
   "language": "python",
   "name": "gcn"
  },
  "language_info": {
   "codemirror_mode": {
    "name": "ipython",
    "version": 3
   },
   "file_extension": ".py",
   "mimetype": "text/x-python",
   "name": "python",
   "nbconvert_exporter": "python",
   "pygments_lexer": "ipython3",
   "version": "3.7.0"
  }
 },
 "nbformat": 4,
 "nbformat_minor": 2
}
